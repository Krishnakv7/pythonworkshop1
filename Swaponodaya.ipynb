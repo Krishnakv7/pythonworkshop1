{
  "cells": [
    {
      "cell_type": "markdown",
      "metadata": {
        "id": "f-942MOfGFsk"
      },
      "source": [
        "# Python program to convert upper case letters to lower case letters using ASKI values method"
      ]
    },
    {
      "cell_type": "code",
      "execution_count": null,
      "metadata": {
        "colab": {
          "base_uri": "https://localhost:8080/"
        },
        "id": "d1HNnIbLECvZ",
        "outputId": "6995d174-6d06-403d-b308-8f3ff5950689"
      },
      "outputs": [
        {
          "name": "stdout",
          "output_type": "stream",
          "text": [
            "h\n"
          ]
        }
      ],
      "source": [
        "a=\"Hello\"\n",
        "b=\"\"\n",
        "i=0\n",
        "while i<len(a):\n",
        "    if a[i]>=\"A\" and a[i]<=\"Z\":\n",
        "        b=b+chr(ord(a[i])+32)\n",
        "    i=i+1\n",
        "print(b)"
      ]
    },
    {
      "cell_type": "markdown",
      "metadata": {
        "id": "fxISwxJDGb9_"
      },
      "source": [
        "# Python program to convert upper case letters to lower case letters using ASKI values method with compine with lower case letters also\n"
      ]
    },
    {
      "cell_type": "code",
      "execution_count": null,
      "metadata": {
        "colab": {
          "base_uri": "https://localhost:8080/"
        },
        "id": "pYkepjonGnoa",
        "outputId": "04067349-2f9f-4146-a386-90a01559e811"
      },
      "outputs": [
        {
          "name": "stdout",
          "output_type": "stream",
          "text": [
            "hello\n"
          ]
        }
      ],
      "source": [
        "a=\"Hello\"\n",
        "b=\"\"\n",
        "i=0\n",
        "while i<len(a):\n",
        "    if a[i]>=\"A\" and a[i]<=\"Z\":\n",
        "        b=b+chr(ord(a[i])+32)\n",
        "    else:\n",
        "       b=b+a[i]\n",
        "    i=i+1\n",
        "\n",
        "print(b)"
      ]
    },
    {
      "cell_type": "markdown",
      "metadata": {
        "id": "YpAJBj8-G41P"
      },
      "source": [
        "# input\n",
        "####  a=\"kruthikk616@gmail.com\n",
        "# output\n",
        "#### b=\"kruthikkgmailcom\"\n",
        "#### c=\"123\"\n",
        "#### d=\"@.\"\n",
        "#### by using the input email we should separate the email into character,number,special character\n"
      ]
    },
    {
      "cell_type": "code",
      "execution_count": null,
      "metadata": {
        "colab": {
          "base_uri": "https://localhost:8080/"
        },
        "id": "tLdhBGYVH890",
        "outputId": "ba6f7c35-9edf-429b-fe13-b763b169cd35"
      },
      "outputs": [
        {
          "name": "stdout",
          "output_type": "stream",
          "text": [
            "kruthikkgmailcom\n",
            "616\n",
            "@.\n"
          ]
        }
      ],
      "source": [
        "a=\"kruthikk616@gmail.com\"\n",
        "b=\"\"\n",
        "c=\"\"\n",
        "d=\"\"\n",
        "i=0\n",
        "while i<len(a):\n",
        "\n",
        "    if (a[i]>=\"A\" and a[i]<=\"Z\") or(a[i]>=\"a\" and a[i]<=\"z\"):\n",
        "        b=b+a[i]\n",
        "    elif a[i] >=\"0\" and a[i] <=\"9\":\n",
        "        c=c+a[i]\n",
        "    else:\n",
        "        d=d+a[i]\n",
        "    i=i+1\n",
        "print(b)\n",
        "print(c)\n",
        "print(d)\n"
      ]
    },
    {
      "cell_type": "markdown",
      "metadata": {
        "id": "nvOyfzz1M3Qm"
      },
      "source": [
        "#input\n",
        "a=[19,2,13,4,5,11,-1,-17]\n",
        "#output\n",
        "48\n",
        "odd numbers=19,13,5,11\n",
        "a=19+13+5+11=48"
      ]
    },
    {
      "cell_type": "code",
      "execution_count": null,
      "metadata": {
        "colab": {
          "base_uri": "https://localhost:8080/"
        },
        "id": "vdoWji6fNUpL",
        "outputId": "e812e51a-b607-48f8-f40d-64e8dd930dd8"
      },
      "outputs": [
        {
          "name": "stdout",
          "output_type": "stream",
          "text": [
            "48\n"
          ]
        }
      ],
      "source": [
        "a=[19,2,13,4,5,11,-1,-17]\n",
        "b=0\n",
        "i=0\n",
        "while i<len(a):\n",
        "    if a[i]>0 and a[i]%2==1:\n",
        "        b=b+a[i]\n",
        "    i=i+1\n",
        "print(b)"
      ]
    },
    {
      "cell_type": "markdown",
      "metadata": {
        "id": "Asrz-vcBTFWV"
      },
      "source": [
        "#input\n",
        "a=\"CSISESYSS\"\n",
        "#output\n",
        "b=\"SSSS\"\n"
      ]
    },
    {
      "cell_type": "code",
      "execution_count": null,
      "metadata": {
        "colab": {
          "base_uri": "https://localhost:8080/"
        },
        "id": "ZWxBtY7KTid6",
        "outputId": "aa9513be-ebf1-43d4-d9a9-1428d6f47442"
      },
      "outputs": [
        {
          "name": "stdout",
          "output_type": "stream",
          "text": [
            "SSSS\n"
          ]
        }
      ],
      "source": [
        "a=\"CSISESYSS\"\n",
        "b=\"\"\n",
        "i=0\n",
        "while i<len(a):\n",
        "  if i%2==1:\n",
        "    b=b+a[i]\n",
        "  i=i+1\n",
        "print(b)\n"
      ]
    },
    {
      "cell_type": "markdown",
      "metadata": {
        "id": "ei73BykRWPuz"
      },
      "source": [
        "## python program to print even numbers between 10-20"
      ]
    },
    {
      "cell_type": "code",
      "execution_count": null,
      "metadata": {
        "colab": {
          "base_uri": "https://localhost:8080/"
        },
        "id": "tFlb5ay9WoED",
        "outputId": "9bc35dde-9e12-4f5e-ddd2-8b118c95ee3e"
      },
      "outputs": [
        {
          "name": "stdout",
          "output_type": "stream",
          "text": [
            "10\n",
            "12\n",
            "14\n",
            "16\n",
            "18\n",
            "20\n"
          ]
        }
      ],
      "source": [
        "i=10\n",
        "while i<=20:\n",
        "  if  i%2==0:\n",
        "      print(i)\n",
        "  i=i+1"
      ]
    },
    {
      "cell_type": "markdown",
      "metadata": {
        "id": "q_SHolUIXGhB"
      },
      "source": [
        "### 80-100 grade a ,\n",
        "\n",
        "### 50-79 grade b,\n",
        "\n",
        "### 35-49 grade c,\n",
        "\n",
        "### below fail\n"
      ]
    },
    {
      "cell_type": "code",
      "execution_count": null,
      "metadata": {
        "colab": {
          "base_uri": "https://localhost:8080/"
        },
        "id": "B_u4JXpiZcrQ",
        "outputId": "962a8d92-6591-4f64-f057-1f42161b621b"
      },
      "outputs": [
        {
          "name": "stdout",
          "output_type": "stream",
          "text": [
            "enter the marks :99\n",
            "Grade A\n"
          ]
        }
      ],
      "source": [
        "marks=int(input(\"enter the marks :\"))\n",
        "if marks>=0 and marks<=100:\n",
        "    if marks>=80 and marks<=100:\n",
        "       print(\"Grade A\")\n",
        "    elif marks>=50 and marks<=79:\n",
        "       print(\"Grade B\")\n",
        "    elif marks>=35 and marks<=49:\n",
        "        print(\"Grade C\")\n",
        "    else:\n",
        "        print(\"Fail\")\n",
        "else:\n",
        "    print(\"Invalid marks\")"
      ]
    },
    {
      "cell_type": "markdown",
      "metadata": {
        "id": "Hb8LbbtZbZJ3"
      },
      "source": [
        "# Python program to validate user_id and password using nested if"
      ]
    },
    {
      "cell_type": "code",
      "execution_count": null,
      "metadata": {
        "colab": {
          "base_uri": "https://localhost:8080/"
        },
        "id": "uH9OepYxblkq",
        "outputId": "604147a3-96ec-484d-d64e-da02a5bd60a7"
      },
      "outputs": [
        {
          "output_type": "stream",
          "name": "stdout",
          "text": [
            "enter UID :Kruthik1001\n",
            "Enter password :1234\n",
            "Login Successfull\n"
          ]
        }
      ],
      "source": [
        "uid=input(\"enter UID :\")\n",
        "\n",
        "\n",
        "if uid== \"Kruthik1001\":\n",
        "    password=input(\"Enter password :\")\n",
        "    if password==\"1234\":\n",
        "       print(\"Login Successfull\")\n",
        "    else:\n",
        "       print(\"Password is Roung\")\n",
        "else:\n",
        "  print(\"UID is roung\")\n"
      ]
    },
    {
      "cell_type": "markdown",
      "metadata": {
        "id": "weDKAMDOfsCf"
      },
      "source": [
        "# For loop"
      ]
    },
    {
      "cell_type": "code",
      "execution_count": null,
      "metadata": {
        "colab": {
          "base_uri": "https://localhost:8080/"
        },
        "id": "ko7o-ryr0yua",
        "outputId": "b0b96ce7-4c1e-45b7-ea53-c20f28c8254b"
      },
      "outputs": [
        {
          "name": "stdout",
          "output_type": "stream",
          "text": [
            "h\n",
            "e\n",
            "l\n",
            "l\n",
            "o\n"
          ]
        }
      ],
      "source": [
        "a=\"hello\"\n",
        "for i in a:\n",
        "    print(i)"
      ]
    },
    {
      "cell_type": "code",
      "execution_count": null,
      "metadata": {
        "colab": {
          "base_uri": "https://localhost:8080/"
        },
        "id": "7IaafT7L0zDC",
        "outputId": "4aeae77f-efac-414e-9d81-ed5fde1150af"
      },
      "outputs": [
        {
          "name": "stdout",
          "output_type": "stream",
          "text": [
            "12345\n",
            "12345\n",
            "12345\n",
            "12345\n",
            "12345\n"
          ]
        }
      ],
      "source": [
        "a=\"12345\"\n",
        "for i in a:\n",
        "    print(\"12345\")"
      ]
    },
    {
      "cell_type": "markdown",
      "metadata": {
        "id": "FL5-niOc1SkW"
      },
      "source": [
        "#### print odd numbers between 6 and 12"
      ]
    },
    {
      "cell_type": "code",
      "execution_count": null,
      "metadata": {
        "colab": {
          "base_uri": "https://localhost:8080/"
        },
        "id": "SJaSly_B0zFa",
        "outputId": "15fa2868-da1b-46d7-a33f-728900379618"
      },
      "outputs": [
        {
          "name": "stdout",
          "output_type": "stream",
          "text": [
            "6\n",
            "8\n",
            "10\n",
            "12\n"
          ]
        }
      ],
      "source": [
        "for i in range(6,13):\n",
        "    if i%2==0:\n",
        "        print(i)"
      ]
    },
    {
      "cell_type": "markdown",
      "metadata": {
        "id": "2MSqW_jZ1khE"
      },
      "source": [
        "### input=\"teachers\"\n",
        "### output=48"
      ]
    },
    {
      "cell_type": "code",
      "execution_count": null,
      "metadata": {
        "colab": {
          "base_uri": "https://localhost:8080/"
        },
        "id": "8z_1MP1M1lt-",
        "outputId": "c673aefd-97f5-4ee9-8fa5-53c1973209d9"
      },
      "outputs": [
        {
          "name": "stdout",
          "output_type": "stream",
          "text": [
            "16\n"
          ]
        }
      ],
      "source": [
        "b=\"teachers\"\n",
        "d=0\n",
        "for i in range(0,len(b)):\n",
        "    if i%2==1:\n",
        "        d=d+i\n",
        "print(d)"
      ]
    },
    {
      "cell_type": "markdown",
      "metadata": {
        "id": "pJYUhCuj16KN"
      },
      "source": [
        "### input=\"swapnodaya\"\n",
        "### output=sandy"
      ]
    },
    {
      "cell_type": "code",
      "execution_count": null,
      "metadata": {
        "colab": {
          "base_uri": "https://localhost:8080/"
        },
        "id": "G5Jl_LX12FFJ",
        "outputId": "e6cb97e5-afb4-4015-d321-3f1126a3da58"
      },
      "outputs": [
        {
          "name": "stdout",
          "output_type": "stream",
          "text": [
            "sandy\n"
          ]
        }
      ],
      "source": [
        "s=\"swapnodaya\"\n",
        "y=\"\"\n",
        "for i in range(len(s)):\n",
        "    if i%2==0:\n",
        "        y=y+s[i]\n",
        "print(y)"
      ]
    },
    {
      "cell_type": "markdown",
      "metadata": {
        "id": "43g4nqa43HiT"
      },
      "source": []
    },
    {
      "cell_type": "code",
      "execution_count": null,
      "metadata": {
        "colab": {
          "base_uri": "https://localhost:8080/"
        },
        "id": "3ZfoHBSR3IaO",
        "outputId": "82aecb30-60f7-46c5-ccc4-61805fa4cf92"
      },
      "outputs": [
        {
          "name": "stdout",
          "output_type": "stream",
          "text": [
            "7\n"
          ]
        }
      ],
      "source": [
        "b=\"Swapnodaya Exskilence\"\n",
        "c=0\n",
        "i=0\n",
        "while i<len(b):\n",
        "    if b[i] in \"aeiou\":\n",
        "        c=c+1\n",
        "    i=i+1\n",
        "print(c)"
      ]
    },
    {
      "cell_type": "markdown",
      "metadata": {
        "id": "i0owuKyH3UEB"
      },
      "source": []
    },
    {
      "cell_type": "code",
      "execution_count": null,
      "metadata": {
        "colab": {
          "base_uri": "https://localhost:8080/"
        },
        "id": "ZUk-KbEW3Uo8",
        "outputId": "e97508de-b487-49d6-dd7b-45e51e2958fa"
      },
      "outputs": [
        {
          "name": "stdout",
          "output_type": "stream",
          "text": [
            "8\n"
          ]
        }
      ],
      "source": [
        "b=\"Swapnodaya Exskilence\"\n",
        "d=0\n",
        "i=0\n",
        "while i<len(b):\n",
        "    if b[i] in (\"aeiouAEIOU\"):\n",
        "        d=d+1\n",
        "    i=i+1\n",
        "print(c)"
      ]
    },
    {
      "cell_type": "markdown",
      "metadata": {
        "id": "TYq0kGhe4LjN"
      },
      "source": []
    },
    {
      "cell_type": "code",
      "execution_count": null,
      "metadata": {
        "colab": {
          "background_save": true,
          "base_uri": "https://localhost:8080/"
        },
        "id": "m43wTCm74ME1",
        "outputId": "4614c089-06fa-4f9a-8da5-2fa231c59178"
      },
      "outputs": [
        {
          "name": "stdout",
          "output_type": "stream",
          "text": [
            "[5, 2]\n"
          ]
        }
      ],
      "source": [
        "d=[\"hello\",52,\"hi\"]\n",
        "f=[]\n",
        "for i in d:\n",
        "    if type(i)==str:\n",
        "\n",
        "        c=0\n",
        "        for j in i:\n",
        "            c=c+1\n",
        "        f=f+[c]\n",
        "print(f)"
      ]
    },
    {
      "cell_type": "markdown",
      "metadata": {
        "id": "389XOkAL4iVa"
      },
      "source": []
    },
    {
      "cell_type": "code",
      "execution_count": null,
      "metadata": {
        "colab": {
          "base_uri": "https://localhost:8080/"
        },
        "id": "fcccEair4i9m",
        "outputId": "9f2a7a20-328b-4b98-95a4-3f8b53756ad2"
      },
      "outputs": [
        {
          "name": "stdout",
          "output_type": "stream",
          "text": [
            "kihturk\n"
          ]
        }
      ],
      "source": [
        "a=\"kruthik\"\n",
        "b=\"\"\n",
        "for i in a :\n",
        "    b=i+b\n",
        "print(b)\n",
        "\n"
      ]
    },
    {
      "cell_type": "markdown",
      "metadata": {
        "id": "YtIhKvWK47qb"
      },
      "source": []
    },
    {
      "cell_type": "code",
      "execution_count": null,
      "metadata": {
        "colab": {
          "base_uri": "https://localhost:8080/",
          "height": 176
        },
        "id": "kpyhp2N75JxS",
        "outputId": "6f9616d9-7245-4fe8-b698-56eb32545e82"
      },
      "outputs": [
        {
          "output_type": "error",
          "ename": "IndexError",
          "evalue": "string index out of range",
          "traceback": [
            "\u001b[0;31m---------------------------------------------------------------------------\u001b[0m",
            "\u001b[0;31mIndexError\u001b[0m                                Traceback (most recent call last)",
            "\u001b[0;32m/tmp/ipython-input-2166583722.py\u001b[0m in \u001b[0;36m<cell line: 0>\u001b[0;34m()\u001b[0m\n\u001b[1;32m      3\u001b[0m \u001b[0mb\u001b[0m\u001b[0;34m=\u001b[0m\u001b[0;34m\"\"\u001b[0m\u001b[0;34m\u001b[0m\u001b[0;34m\u001b[0m\u001b[0m\n\u001b[1;32m      4\u001b[0m \u001b[0;32mfor\u001b[0m \u001b[0mi\u001b[0m \u001b[0;32min\u001b[0m \u001b[0mrange\u001b[0m\u001b[0;34m(\u001b[0m\u001b[0mlen\u001b[0m\u001b[0;34m(\u001b[0m\u001b[0ma\u001b[0m\u001b[0;34m)\u001b[0m\u001b[0;34m,\u001b[0m\u001b[0;36m0\u001b[0m\u001b[0;34m,\u001b[0m\u001b[0;34m-\u001b[0m\u001b[0;36m1\u001b[0m\u001b[0;34m)\u001b[0m\u001b[0;34m:\u001b[0m\u001b[0;34m\u001b[0m\u001b[0;34m\u001b[0m\u001b[0m\n\u001b[0;32m----> 5\u001b[0;31m   \u001b[0mprint\u001b[0m\u001b[0;34m(\u001b[0m\u001b[0ma\u001b[0m\u001b[0;34m[\u001b[0m\u001b[0mi\u001b[0m\u001b[0;34m]\u001b[0m\u001b[0;34m)\u001b[0m\u001b[0;34m\u001b[0m\u001b[0;34m\u001b[0m\u001b[0m\n\u001b[0m",
            "\u001b[0;31mIndexError\u001b[0m: string index out of range"
          ]
        }
      ],
      "source": [
        "from re import I\n",
        "a=\"kruthik\"\n",
        "b=\"\"\n",
        "for i in range(len(a),0,-1):\n",
        "  print(a[i])"
      ]
    },
    {
      "cell_type": "markdown",
      "source": [
        "#### input=\"Malayalam\"\n",
        "#### output=a4"
      ],
      "metadata": {
        "id": "8mjme15hjun0"
      }
    },
    {
      "cell_type": "code",
      "source": [
        "b=\"Malayalam\"\n",
        "c=0\n",
        "for i in b:\n",
        "    if i==\"a\":\n",
        "        c=c+1\n",
        "print(f'a{c}')\n"
      ],
      "metadata": {
        "colab": {
          "base_uri": "https://localhost:8080/"
        },
        "id": "xK2U9CkPjvkb",
        "outputId": "30449659-8945-4f09-af96-b1d14524cc3f"
      },
      "execution_count": null,
      "outputs": [
        {
          "output_type": "stream",
          "name": "stdout",
          "text": [
            "a4\n"
          ]
        }
      ]
    },
    {
      "cell_type": "code",
      "source": [
        "b=\"Malayalam\"\n",
        "c=0\n",
        "z=\"a\"\n",
        "for i in b:\n",
        "  if i==\"a\":\n",
        "    c=c+1\n",
        "z=z+str(c)\n",
        "print(z)"
      ],
      "metadata": {
        "colab": {
          "base_uri": "https://localhost:8080/"
        },
        "id": "-m__ph1QknSu",
        "outputId": "6af65587-e063-469f-c7a5-d374e718ba4c"
      },
      "execution_count": null,
      "outputs": [
        {
          "output_type": "stream",
          "name": "stdout",
          "text": [
            "a4\n"
          ]
        }
      ]
    },
    {
      "cell_type": "code",
      "source": [
        "b=\"Malayalam\"\n",
        "c=0\n",
        "z=\"a\"\n",
        "for i in b:\n",
        "  if i==\"a\":\n",
        "    c=c+1\n",
        "print(z+str(c))"
      ],
      "metadata": {
        "colab": {
          "base_uri": "https://localhost:8080/"
        },
        "id": "7_HeNyWSlIgo",
        "outputId": "bd8c7885-57cc-4436-a55e-f37aad2b5175"
      },
      "execution_count": null,
      "outputs": [
        {
          "output_type": "stream",
          "name": "stdout",
          "text": [
            "a4\n"
          ]
        }
      ]
    },
    {
      "cell_type": "markdown",
      "source": [
        "#### input=\"aabbccc\"\n",
        "#### output=a2b2c3"
      ],
      "metadata": {
        "id": "upvDzfV_l68l"
      }
    },
    {
      "cell_type": "code",
      "source": [
        "z=\"aabbccc\"\n",
        "y=\"\"\n",
        "for i in z:\n",
        "    if i not in y:\n",
        "        c=0\n",
        "        for j in z:\n",
        "\n",
        "            if i==j:\n",
        "                c=c+1\n",
        "        y=y+i+str(c)\n",
        "print(y)\n",
        "\n"
      ],
      "metadata": {
        "colab": {
          "base_uri": "https://localhost:8080/"
        },
        "id": "hIAnN6mwmZS6",
        "outputId": "dc18ef9c-6200-4538-8999-9f890295f91b"
      },
      "execution_count": null,
      "outputs": [
        {
          "output_type": "stream",
          "name": "stdout",
          "text": [
            "a2b2c3\n"
          ]
        }
      ]
    },
    {
      "cell_type": "markdown",
      "source": [
        "# if ,else\n"
      ],
      "metadata": {
        "id": "vHKD7xNdjF3H"
      }
    },
    {
      "cell_type": "code",
      "source": [
        "x=0\n",
        "if not x:\n",
        "  print(\"x is zero\")\n",
        "else:\n",
        "  print(\"x is not zero\")"
      ],
      "metadata": {
        "colab": {
          "base_uri": "https://localhost:8080/"
        },
        "id": "yVmbTRAFjJh1",
        "outputId": "90887aaf-0410-4711-990d-62ae335f594f"
      },
      "execution_count": null,
      "outputs": [
        {
          "output_type": "stream",
          "name": "stdout",
          "text": [
            "x is zero\n"
          ]
        }
      ]
    },
    {
      "cell_type": "code",
      "source": [
        "x=5\n",
        "if x>3:\n",
        "  print(\"greater\")\n",
        "else:\n",
        "  print(\"smaller\")"
      ],
      "metadata": {
        "colab": {
          "base_uri": "https://localhost:8080/"
        },
        "id": "7Uj8z-TdjpOJ",
        "outputId": "a29826cc-91d0-414b-d052-7c945d01fba3"
      },
      "execution_count": null,
      "outputs": [
        {
          "output_type": "stream",
          "name": "stdout",
          "text": [
            "greater\n"
          ]
        }
      ]
    },
    {
      "cell_type": "code",
      "source": [
        "x=7\n",
        "if x%2==0:\n",
        "  print(\"even\")\n",
        "elif x%2!=2:\n",
        "  print(\"odd\")\n",
        "else:\n",
        "  print(\"neither\")"
      ],
      "metadata": {
        "colab": {
          "base_uri": "https://localhost:8080/"
        },
        "id": "9ZvjxQEOj5DL",
        "outputId": "25d8e238-fc45-47f1-e96f-1f2555a93a36"
      },
      "execution_count": null,
      "outputs": [
        {
          "output_type": "stream",
          "name": "stdout",
          "text": [
            "odd\n"
          ]
        }
      ]
    },
    {
      "cell_type": "markdown",
      "source": [
        " $5=under 12 or over 65\n",
        " $10 =between 12 and 65\n",
        "  invalid age=below 0 and above 120"
      ],
      "metadata": {
        "id": "ZCu24E3wlAOo"
      }
    },
    {
      "cell_type": "code",
      "source": [
        "age=78\n",
        "if age <=0 or age>=120:\n",
        "    print(\"Invalid age\")\n",
        "elif age<12 or age>65:\n",
        "    print(\"$5\")\n",
        "else:\n",
        "    print(\"$10\")"
      ],
      "metadata": {
        "colab": {
          "base_uri": "https://localhost:8080/"
        },
        "id": "jwrNabMUlcxl",
        "outputId": "51255810-fc45-4871-b141-2ffcda0525fc"
      },
      "execution_count": null,
      "outputs": [
        {
          "output_type": "stream",
          "name": "stdout",
          "text": [
            "$5\n"
          ]
        }
      ]
    },
    {
      "cell_type": "markdown",
      "source": [
        "### nested if condition\n"
      ],
      "metadata": {
        "id": "4NOzP3gqmOt2"
      }
    },
    {
      "cell_type": "code",
      "source": [
        "x=4\n",
        "y=6\n",
        "if x+y==10:\n",
        "  if x*y==24:\n",
        "    print(\"sum is 10 and prodect is 24\")\n",
        "  else:\n",
        "    print(\"sum is 10 and prodect is not 24\")\n",
        "else:\n",
        "  print(\"sum is not10\")"
      ],
      "metadata": {
        "colab": {
          "base_uri": "https://localhost:8080/"
        },
        "id": "aNujktgamfrT",
        "outputId": "45c10754-77a3-43aa-d1df-5490982b7bc5"
      },
      "execution_count": null,
      "outputs": [
        {
          "output_type": "stream",
          "name": "stdout",
          "text": [
            "sum is 10 and prodect is 24\n"
          ]
        }
      ]
    },
    {
      "cell_type": "code",
      "source": [
        "x=12\n",
        "if x%3==0:\n",
        "  if x%4==0:\n",
        "    print(\"x divisible by 3 and x divisible by 4\")\n",
        "  else:\n",
        "    print(\"x divisible by 3 and x not divisible by 4\")\n",
        "else:\n",
        "  print(\"x not divisible by 3\")\n"
      ],
      "metadata": {
        "colab": {
          "base_uri": "https://localhost:8080/"
        },
        "id": "qBkqvGfAnUTQ",
        "outputId": "7e1c7d8f-232c-41c8-996b-d3d23c6197c3"
      },
      "execution_count": null,
      "outputs": [
        {
          "output_type": "stream",
          "name": "stdout",
          "text": [
            "x divisible by 3 and x divisible by 4\n"
          ]
        }
      ]
    },
    {
      "cell_type": "code",
      "source": [
        "age=10\n",
        "if age >=0 and age <=12:\n",
        "    print(\"Child\")\n",
        "elif age >=13 and age <=19:\n",
        "    print(\"Teenager\")\n",
        "elif age >=20 and age <=59:\n",
        "    print(\"Adult\")\n",
        "elif age>60 and age<=120:\n",
        "    print(\"Senior\")\n",
        "else:\n",
        "    print(\"Error: Age must be between 0 and 120.\")"
      ],
      "metadata": {
        "colab": {
          "base_uri": "https://localhost:8080/"
        },
        "id": "G3_YaQ5joQZ1",
        "outputId": "eb3664d9-1b3d-444d-9a0d-47cb279ec693"
      },
      "execution_count": null,
      "outputs": [
        {
          "output_type": "stream",
          "name": "stdout",
          "text": [
            "Child\n"
          ]
        }
      ]
    },
    {
      "cell_type": "code",
      "source": [
        "year=0\n",
        "if year>0:\n",
        "    if (year%4==0) and (year%100!=0 or year%400==0):\n",
        "        print(\"Leap year\")\n",
        "    else:\n",
        "        print(\"Not a leap year\")\n",
        "else:\n",
        "    print(\"Invalid year\")"
      ],
      "metadata": {
        "colab": {
          "base_uri": "https://localhost:8080/"
        },
        "id": "uFUWm9R8uil0",
        "outputId": "0e145958-faa0-4ad9-d6ed-9995cf5c4819"
      },
      "execution_count": null,
      "outputs": [
        {
          "output_type": "stream",
          "name": "stdout",
          "text": [
            "Invalid year\n"
          ]
        }
      ]
    },
    {
      "cell_type": "markdown",
      "source": [
        "# errors\n"
      ],
      "metadata": {
        "id": "K_H-5YZDv-2f"
      }
    },
    {
      "cell_type": "markdown",
      "source": [
        "### syntex error"
      ],
      "metadata": {
        "id": "Q85PaQTQwWpB"
      }
    },
    {
      "cell_type": "code",
      "source": [
        "z=\"aabbccc\"\n",
        "y=\"\"\n",
        "for i in z\n",
        "    if i not in y:\n",
        "        c=0\n",
        "        for j in z:\n",
        "\n",
        "            if i==j:\n",
        "                c=c+1\n",
        "        y=y+i+str(c)\n",
        "print(y)"
      ],
      "metadata": {
        "colab": {
          "base_uri": "https://localhost:8080/",
          "height": 106
        },
        "id": "7VJ8W3fnwCcg",
        "outputId": "f17c9741-13fd-4d84-c02c-a5ced21cb4d8"
      },
      "execution_count": null,
      "outputs": [
        {
          "output_type": "error",
          "ename": "SyntaxError",
          "evalue": "expected ':' (ipython-input-2100768108.py, line 3)",
          "traceback": [
            "\u001b[0;36m  File \u001b[0;32m\"/tmp/ipython-input-2100768108.py\"\u001b[0;36m, line \u001b[0;32m3\u001b[0m\n\u001b[0;31m    for i in z\u001b[0m\n\u001b[0m              ^\u001b[0m\n\u001b[0;31mSyntaxError\u001b[0m\u001b[0;31m:\u001b[0m expected ':'\n"
          ]
        }
      ]
    },
    {
      "cell_type": "markdown",
      "source": [],
      "metadata": {
        "id": "OgCMTBIIwVBr"
      }
    },
    {
      "cell_type": "code",
      "source": [
        "z=\"aabbccc\n",
        "y=\"\"\n",
        "for i in z:\n",
        "    if i not in y:\n",
        "        c=0\n",
        "        for j in z:\n",
        "\n",
        "            if i==j:\n",
        "                c=c+1\n",
        "        y=y+i+str(c)\n",
        "print(y)\n",
        "\n"
      ],
      "metadata": {
        "colab": {
          "base_uri": "https://localhost:8080/",
          "height": 106
        },
        "id": "xXPm9fBiwKMf",
        "outputId": "e944270c-61ba-409d-846d-dc8dac3e1169"
      },
      "execution_count": null,
      "outputs": [
        {
          "output_type": "error",
          "ename": "SyntaxError",
          "evalue": "unterminated string literal (detected at line 1) (ipython-input-1262578517.py, line 1)",
          "traceback": [
            "\u001b[0;36m  File \u001b[0;32m\"/tmp/ipython-input-1262578517.py\"\u001b[0;36m, line \u001b[0;32m1\u001b[0m\n\u001b[0;31m    z=\"aabbccc\u001b[0m\n\u001b[0m      ^\u001b[0m\n\u001b[0;31mSyntaxError\u001b[0m\u001b[0;31m:\u001b[0m unterminated string literal (detected at line 1)\n"
          ]
        }
      ]
    },
    {
      "cell_type": "markdown",
      "source": [
        "## string index out of range\n"
      ],
      "metadata": {
        "id": "-dSiVYFZwgdD"
      }
    },
    {
      "cell_type": "code",
      "source": [
        "b=\"Swapnodaya Exskilence\"\n",
        "d=0\n",
        "i=0\n",
        "while i<=len(b):\n",
        "    if b[i] in (\"aeiouAEIOU\"):\n",
        "        d=d+1\n",
        "    i=i+1\n",
        "print(c)"
      ],
      "metadata": {
        "colab": {
          "base_uri": "https://localhost:8080/",
          "height": 211
        },
        "id": "1KJFrSrbwhzs",
        "outputId": "d9a21269-f66a-47b2-a71c-a78944a1d482"
      },
      "execution_count": null,
      "outputs": [
        {
          "output_type": "error",
          "ename": "IndexError",
          "evalue": "string index out of range",
          "traceback": [
            "\u001b[0;31m---------------------------------------------------------------------------\u001b[0m",
            "\u001b[0;31mIndexError\u001b[0m                                Traceback (most recent call last)",
            "\u001b[0;32m/tmp/ipython-input-4021332245.py\u001b[0m in \u001b[0;36m<cell line: 0>\u001b[0;34m()\u001b[0m\n\u001b[1;32m      3\u001b[0m \u001b[0mi\u001b[0m\u001b[0;34m=\u001b[0m\u001b[0;36m0\u001b[0m\u001b[0;34m\u001b[0m\u001b[0;34m\u001b[0m\u001b[0m\n\u001b[1;32m      4\u001b[0m \u001b[0;32mwhile\u001b[0m \u001b[0mi\u001b[0m\u001b[0;34m<=\u001b[0m\u001b[0mlen\u001b[0m\u001b[0;34m(\u001b[0m\u001b[0mb\u001b[0m\u001b[0;34m)\u001b[0m\u001b[0;34m:\u001b[0m\u001b[0;34m\u001b[0m\u001b[0;34m\u001b[0m\u001b[0m\n\u001b[0;32m----> 5\u001b[0;31m     \u001b[0;32mif\u001b[0m \u001b[0mb\u001b[0m\u001b[0;34m[\u001b[0m\u001b[0mi\u001b[0m\u001b[0;34m]\u001b[0m \u001b[0;32min\u001b[0m \u001b[0;34m(\u001b[0m\u001b[0;34m\"aeiouAEIOU\"\u001b[0m\u001b[0;34m)\u001b[0m\u001b[0;34m:\u001b[0m\u001b[0;34m\u001b[0m\u001b[0;34m\u001b[0m\u001b[0m\n\u001b[0m\u001b[1;32m      6\u001b[0m         \u001b[0md\u001b[0m\u001b[0;34m=\u001b[0m\u001b[0md\u001b[0m\u001b[0;34m+\u001b[0m\u001b[0;36m1\u001b[0m\u001b[0;34m\u001b[0m\u001b[0;34m\u001b[0m\u001b[0m\n\u001b[1;32m      7\u001b[0m     \u001b[0mi\u001b[0m\u001b[0;34m=\u001b[0m\u001b[0mi\u001b[0m\u001b[0;34m+\u001b[0m\u001b[0;36m1\u001b[0m\u001b[0;34m\u001b[0m\u001b[0;34m\u001b[0m\u001b[0m\n",
            "\u001b[0;31mIndexError\u001b[0m: string index out of range"
          ]
        }
      ]
    },
    {
      "cell_type": "markdown",
      "source": [
        "## name 'c' is not defined"
      ],
      "metadata": {
        "id": "XXVVEAhSwvV1"
      }
    },
    {
      "cell_type": "code",
      "source": [
        "b=\"Swapnodaya Exskilence\"\n",
        "#d=0\n",
        "i=0\n",
        "while i<len(b):\n",
        "    if b[i] in (\"aeiouAEIOU\"):\n",
        "        d=d+1\n",
        "    i=i+1\n",
        "print(c)"
      ],
      "metadata": {
        "colab": {
          "base_uri": "https://localhost:8080/",
          "height": 176
        },
        "id": "G7SjeWwewvzc",
        "outputId": "15bae754-1f4a-4f61-d651-d017b6b7cedc"
      },
      "execution_count": null,
      "outputs": [
        {
          "output_type": "error",
          "ename": "NameError",
          "evalue": "name 'c' is not defined",
          "traceback": [
            "\u001b[0;31m---------------------------------------------------------------------------\u001b[0m",
            "\u001b[0;31mNameError\u001b[0m                                 Traceback (most recent call last)",
            "\u001b[0;32m/tmp/ipython-input-1545759137.py\u001b[0m in \u001b[0;36m<cell line: 0>\u001b[0;34m()\u001b[0m\n\u001b[1;32m      6\u001b[0m         \u001b[0md\u001b[0m\u001b[0;34m=\u001b[0m\u001b[0md\u001b[0m\u001b[0;34m+\u001b[0m\u001b[0;36m1\u001b[0m\u001b[0;34m\u001b[0m\u001b[0;34m\u001b[0m\u001b[0m\n\u001b[1;32m      7\u001b[0m     \u001b[0mi\u001b[0m\u001b[0;34m=\u001b[0m\u001b[0mi\u001b[0m\u001b[0;34m+\u001b[0m\u001b[0;36m1\u001b[0m\u001b[0;34m\u001b[0m\u001b[0;34m\u001b[0m\u001b[0m\n\u001b[0;32m----> 8\u001b[0;31m \u001b[0mprint\u001b[0m\u001b[0;34m(\u001b[0m\u001b[0mc\u001b[0m\u001b[0;34m)\u001b[0m\u001b[0;34m\u001b[0m\u001b[0;34m\u001b[0m\u001b[0m\n\u001b[0m",
            "\u001b[0;31mNameError\u001b[0m: name 'c' is not defined"
          ]
        }
      ]
    },
    {
      "cell_type": "markdown",
      "source": [
        "## type error\n"
      ],
      "metadata": {
        "id": "3GKEyLzfxIU5"
      }
    },
    {
      "cell_type": "code",
      "source": [
        "b=\"Swapnodaya Exskilence\"\n",
        "d=0\n",
        "i=0\n",
        "while i<len[b]:\n",
        "    if b[i] in (\"aeiouAEIOU\"):\n",
        "        d=d+1\n",
        "    i=i+1\n",
        "print(c)"
      ],
      "metadata": {
        "colab": {
          "base_uri": "https://localhost:8080/",
          "height": 211
        },
        "id": "IsbrrMdsxI4r",
        "outputId": "de3decdf-1ab7-4f5d-a370-8245f1f5c90c"
      },
      "execution_count": null,
      "outputs": [
        {
          "output_type": "error",
          "ename": "TypeError",
          "evalue": "'builtin_function_or_method' object is not subscriptable",
          "traceback": [
            "\u001b[0;31m---------------------------------------------------------------------------\u001b[0m",
            "\u001b[0;31mTypeError\u001b[0m                                 Traceback (most recent call last)",
            "\u001b[0;32m/tmp/ipython-input-3560546963.py\u001b[0m in \u001b[0;36m<cell line: 0>\u001b[0;34m()\u001b[0m\n\u001b[1;32m      2\u001b[0m \u001b[0md\u001b[0m\u001b[0;34m=\u001b[0m\u001b[0;36m0\u001b[0m\u001b[0;34m\u001b[0m\u001b[0;34m\u001b[0m\u001b[0m\n\u001b[1;32m      3\u001b[0m \u001b[0mi\u001b[0m\u001b[0;34m=\u001b[0m\u001b[0;36m0\u001b[0m\u001b[0;34m\u001b[0m\u001b[0;34m\u001b[0m\u001b[0m\n\u001b[0;32m----> 4\u001b[0;31m \u001b[0;32mwhile\u001b[0m \u001b[0mi\u001b[0m\u001b[0;34m<\u001b[0m\u001b[0mlen\u001b[0m\u001b[0;34m[\u001b[0m\u001b[0mb\u001b[0m\u001b[0;34m]\u001b[0m\u001b[0;34m:\u001b[0m\u001b[0;34m\u001b[0m\u001b[0;34m\u001b[0m\u001b[0m\n\u001b[0m\u001b[1;32m      5\u001b[0m     \u001b[0;32mif\u001b[0m \u001b[0mb\u001b[0m\u001b[0;34m[\u001b[0m\u001b[0mi\u001b[0m\u001b[0;34m]\u001b[0m \u001b[0;32min\u001b[0m \u001b[0;34m(\u001b[0m\u001b[0;34m\"aeiouAEIOU\"\u001b[0m\u001b[0;34m)\u001b[0m\u001b[0;34m:\u001b[0m\u001b[0;34m\u001b[0m\u001b[0;34m\u001b[0m\u001b[0m\n\u001b[1;32m      6\u001b[0m         \u001b[0md\u001b[0m\u001b[0;34m=\u001b[0m\u001b[0md\u001b[0m\u001b[0;34m+\u001b[0m\u001b[0;36m1\u001b[0m\u001b[0;34m\u001b[0m\u001b[0;34m\u001b[0m\u001b[0m\n",
            "\u001b[0;31mTypeError\u001b[0m: 'builtin_function_or_method' object is not subscriptable"
          ]
        }
      ]
    },
    {
      "cell_type": "markdown",
      "source": [
        "## logical erre"
      ],
      "metadata": {
        "id": "wbxbZ1tWxV8W"
      }
    },
    {
      "cell_type": "code",
      "source": [
        "b=\"Swapnodaya Exskilence\"\n",
        "d=0\n",
        "i=0\n",
        "while i<len(b):\n",
        "    if b[i] in (\"aeiouAEIOU\"):\n",
        "        d=d+1\n",
        "    i=+1\n",
        "print(c)"
      ],
      "metadata": {
        "id": "wugVcFgExWQ4",
        "outputId": "143743cc-5cd5-46c4-eadc-1a1df79bc22a",
        "colab": {
          "base_uri": "https://localhost:8080/",
          "height": 297
        }
      },
      "execution_count": null,
      "outputs": [
        {
          "output_type": "error",
          "ename": "KeyboardInterrupt",
          "evalue": "",
          "traceback": [
            "\u001b[0;31m---------------------------------------------------------------------------\u001b[0m",
            "\u001b[0;31mKeyboardInterrupt\u001b[0m                         Traceback (most recent call last)",
            "\u001b[0;32m/tmp/ipython-input-3461759493.py\u001b[0m in \u001b[0;36m<cell line: 0>\u001b[0;34m()\u001b[0m\n\u001b[1;32m      2\u001b[0m \u001b[0md\u001b[0m\u001b[0;34m=\u001b[0m\u001b[0;36m0\u001b[0m\u001b[0;34m\u001b[0m\u001b[0;34m\u001b[0m\u001b[0m\n\u001b[1;32m      3\u001b[0m \u001b[0mi\u001b[0m\u001b[0;34m=\u001b[0m\u001b[0;36m0\u001b[0m\u001b[0;34m\u001b[0m\u001b[0;34m\u001b[0m\u001b[0m\n\u001b[0;32m----> 4\u001b[0;31m \u001b[0;32mwhile\u001b[0m \u001b[0mi\u001b[0m\u001b[0;34m<\u001b[0m\u001b[0mlen\u001b[0m\u001b[0;34m(\u001b[0m\u001b[0mb\u001b[0m\u001b[0;34m)\u001b[0m\u001b[0;34m:\u001b[0m\u001b[0;34m\u001b[0m\u001b[0;34m\u001b[0m\u001b[0m\n\u001b[0m\u001b[1;32m      5\u001b[0m     \u001b[0;32mif\u001b[0m \u001b[0mb\u001b[0m\u001b[0;34m[\u001b[0m\u001b[0mi\u001b[0m\u001b[0;34m]\u001b[0m \u001b[0;32min\u001b[0m \u001b[0;34m(\u001b[0m\u001b[0;34m\"aeiouAEIOU\"\u001b[0m\u001b[0;34m)\u001b[0m\u001b[0;34m:\u001b[0m\u001b[0;34m\u001b[0m\u001b[0;34m\u001b[0m\u001b[0m\n\u001b[1;32m      6\u001b[0m         \u001b[0md\u001b[0m\u001b[0;34m=\u001b[0m\u001b[0md\u001b[0m\u001b[0;34m+\u001b[0m\u001b[0;36m1\u001b[0m\u001b[0;34m\u001b[0m\u001b[0;34m\u001b[0m\u001b[0m\n",
            "\u001b[0;31mKeyboardInterrupt\u001b[0m: "
          ]
        }
      ]
    },
    {
      "cell_type": "code",
      "source": [
        "for i in range(1,11):\n",
        "  if i==6:\n",
        "    continue\n",
        "  print(i)"
      ],
      "metadata": {
        "colab": {
          "base_uri": "https://localhost:8080/"
        },
        "id": "uTofMH6WGNC-",
        "outputId": "b51604e1-ab7d-48dc-9fcf-9244b527dfa9"
      },
      "execution_count": null,
      "outputs": [
        {
          "output_type": "stream",
          "name": "stdout",
          "text": [
            "1\n",
            "2\n",
            "3\n",
            "4\n",
            "5\n",
            "7\n",
            "8\n",
            "9\n",
            "10\n"
          ]
        }
      ]
    },
    {
      "cell_type": "code",
      "source": [
        "i=1\n",
        "while i<=10:\n",
        "  if i==6:\n",
        "    i=i+1\n",
        "    continue\n",
        "  print(i)\n",
        "  i=i+1"
      ],
      "metadata": {
        "colab": {
          "base_uri": "https://localhost:8080/"
        },
        "id": "kGLRMwXjGcBq",
        "outputId": "4abc2401-7794-4bf7-b69b-fdc56f899e8b"
      },
      "execution_count": null,
      "outputs": [
        {
          "output_type": "stream",
          "name": "stdout",
          "text": [
            "1\n",
            "2\n",
            "3\n",
            "4\n",
            "5\n",
            "7\n",
            "8\n",
            "9\n",
            "10\n"
          ]
        }
      ]
    },
    {
      "cell_type": "code",
      "source": [
        "i=1\n",
        "while i<=10:\n",
        "  i=i+1\n",
        "  if i==6:\n",
        "\n",
        "    #i=i+1\n",
        "    continue\n",
        "  print(i)\n",
        "  i=i+1"
      ],
      "metadata": {
        "colab": {
          "base_uri": "https://localhost:8080/"
        },
        "id": "0yY2VVKhKIRP",
        "outputId": "0bcd7fdf-9380-4113-a223-222133312449"
      },
      "execution_count": null,
      "outputs": [
        {
          "output_type": "stream",
          "name": "stdout",
          "text": [
            "2\n",
            "4\n",
            "7\n",
            "9\n",
            "11\n"
          ]
        }
      ]
    },
    {
      "cell_type": "code",
      "source": [
        "m=[23,76,89,97,4,67,23]\n",
        "max=0\n",
        "for i in m:\n",
        "    if i>max:\n",
        "        max=i\n",
        "print(max)"
      ],
      "metadata": {
        "colab": {
          "base_uri": "https://localhost:8080/"
        },
        "id": "4LwuFhRzPmyY",
        "outputId": "33f55f4c-a5df-4107-ab16-d05ded1b236c"
      },
      "execution_count": null,
      "outputs": [
        {
          "output_type": "stream",
          "name": "stdout",
          "text": [
            "97\n"
          ]
        }
      ]
    },
    {
      "cell_type": "code",
      "source": [
        "m=[-3,-4,67,22,-23]\n",
        "max=m[0]\n",
        "for i in m:\n",
        "    if i<max:\n",
        "        max=i\n",
        "print(max)"
      ],
      "metadata": {
        "colab": {
          "base_uri": "https://localhost:8080/"
        },
        "id": "5MpSPP4hQb5D",
        "outputId": "cb476de7-f7e0-4453-c020-acab6782047e"
      },
      "execution_count": null,
      "outputs": [
        {
          "output_type": "stream",
          "name": "stdout",
          "text": [
            "-23\n"
          ]
        }
      ]
    },
    {
      "cell_type": "code",
      "source": [
        "m=[23,76,89,97,4,67,23]\n",
        "max=m[0]\n",
        "for i in m:\n",
        "    if i>max:\n",
        "        max=i\n",
        "print(max)"
      ],
      "metadata": {
        "colab": {
          "base_uri": "https://localhost:8080/"
        },
        "id": "UYS6lFPSWdsY",
        "outputId": "0688f311-646a-4396-af6a-84b0193835f5"
      },
      "execution_count": null,
      "outputs": [
        {
          "output_type": "stream",
          "name": "stdout",
          "text": [
            "97\n"
          ]
        }
      ]
    },
    {
      "cell_type": "code",
      "source": [
        "m=[-1,-2,0,]\n",
        "for i in m:\n",
        "    for j in m:\n",
        "        if j>i:\n",
        "            i=j\n",
        "    break\n",
        "print(i)"
      ],
      "metadata": {
        "colab": {
          "base_uri": "https://localhost:8080/"
        },
        "id": "LBy4EOajXd33",
        "outputId": "fd15ad61-4707-4faf-ae4b-129b7d0cc3aa"
      },
      "execution_count": null,
      "outputs": [
        {
          "output_type": "stream",
          "name": "stdout",
          "text": [
            "0\n"
          ]
        }
      ]
    },
    {
      "cell_type": "code",
      "source": [
        "a=[34,78,56,98,99]\n",
        "t1=a[0]\n",
        "for i in a:\n",
        "    if i>t1:\n",
        "        t1=i\n",
        "t2=a[0]\n",
        "for j in a:\n",
        "\n",
        "    if j>t2 and j<t1:\n",
        "        t2=j\n",
        "print(t2)"
      ],
      "metadata": {
        "colab": {
          "base_uri": "https://localhost:8080/"
        },
        "id": "n4LjAr_FXdrc",
        "outputId": "50c9bc28-fb2c-4367-fab5-03f501b6f30a"
      },
      "execution_count": null,
      "outputs": [
        {
          "output_type": "stream",
          "name": "stdout",
          "text": [
            "98\n"
          ]
        }
      ]
    },
    {
      "cell_type": "code",
      "source": [
        "a=[4,98,99,89]\n",
        "f=a[0]\n",
        "s=a[0]\n",
        "for i in a:\n",
        "    if i>f:\n",
        "        s=f\n",
        "        f=i\n",
        "\n",
        "\n",
        "    elif i>s:\n",
        "        s=i\n",
        "    elif i>s and i<f:\n",
        "        s=i\n",
        "print(s)"
      ],
      "metadata": {
        "colab": {
          "base_uri": "https://localhost:8080/"
        },
        "id": "SxmKTnEbQ-Nn",
        "outputId": "db00dd00-ef85-434e-9e33-628b11f17726"
      },
      "execution_count": null,
      "outputs": [
        {
          "output_type": "stream",
          "name": "stdout",
          "text": [
            "98\n"
          ]
        }
      ]
    },
    {
      "cell_type": "code",
      "source": [
        "a=[4,98,99,89]\n",
        "f=a[0]\n",
        "s=a[0]\n",
        "for i in a:\n",
        "    if i>f:\n",
        "       s,f=f,i\n",
        "    elif i>s:\n",
        "        s=i\n",
        "    elif i>s and i<f:\n",
        "        s=i\n",
        "print(s)"
      ],
      "metadata": {
        "colab": {
          "base_uri": "https://localhost:8080/"
        },
        "id": "ABrHgyqCSbFG",
        "outputId": "876a94e0-d5a5-496e-ddf5-1dd3a69ba292"
      },
      "execution_count": null,
      "outputs": [
        {
          "output_type": "stream",
          "name": "stdout",
          "text": [
            "98\n"
          ]
        }
      ]
    },
    {
      "cell_type": "markdown",
      "source": [
        "# continue\n"
      ],
      "metadata": {
        "id": "FEpGQ9xndpWo"
      }
    },
    {
      "cell_type": "code",
      "source": [
        "numbers=[10,20,30,40,50]\n",
        "i=0\n",
        "while i<len(numbers):\n",
        "    i=i+1\n",
        "    if numbers[i-1]==30:\n",
        "        continue\n",
        "    print(numbers[i-1])"
      ],
      "metadata": {
        "colab": {
          "base_uri": "https://localhost:8080/"
        },
        "id": "gWl7PF2dXlsd",
        "outputId": "17f0be1d-d1cf-4c93-d743-e63dcea12a59"
      },
      "execution_count": null,
      "outputs": [
        {
          "output_type": "stream",
          "name": "stdout",
          "text": [
            "10\n",
            "20\n",
            "40\n",
            "50\n"
          ]
        }
      ]
    },
    {
      "cell_type": "code",
      "source": [
        "n=[1,2,3,4,5,6]\n",
        "for i in n:\n",
        "    if i%3==0:\n",
        "        continue\n",
        "    print(i, end=\" \")"
      ],
      "metadata": {
        "colab": {
          "base_uri": "https://localhost:8080/"
        },
        "id": "Hyng4DCdabjD",
        "outputId": "d59a85ab-7186-48f0-c807-2a34216ecf12"
      },
      "execution_count": null,
      "outputs": [
        {
          "output_type": "stream",
          "name": "stdout",
          "text": [
            "1 2 4 5 "
          ]
        }
      ]
    },
    {
      "cell_type": "code",
      "source": [
        "for i in range(1,6):\n",
        "    if i%2==0:\n",
        "        continue\n",
        "    print(i,end=\" \")"
      ],
      "metadata": {
        "colab": {
          "base_uri": "https://localhost:8080/"
        },
        "id": "xSGYBYQLcD_1",
        "outputId": "8d4a014e-295d-4817-8144-9454478339e5"
      },
      "execution_count": null,
      "outputs": [
        {
          "output_type": "stream",
          "name": "stdout",
          "text": [
            "1 3 5 "
          ]
        }
      ]
    },
    {
      "cell_type": "code",
      "source": [
        "def sum_of_positive_numbers(numbers):\n",
        "    # WRITE YOUR CODE HERE...\n",
        "    sum=0\n",
        "    if (len(numbers)<1 or len(numbers)>100):\n",
        "\n",
        "        print(\"Input list does not meet the constraints\")\n",
        "    else:\n",
        "        for i in numbers:\n",
        "            if i>1000 or i<-1000:\n",
        "                print(\"Input list does not meet the constraints\")\n",
        "            if i<0:\n",
        "                continue\n",
        "            sum+=i\n",
        "        print(\"Sum of positive numbers:\",sum)\n",
        "\n",
        "\n",
        "\n",
        "numbers = [10, -5, 3, -1, 7, -2]\n",
        "print(sum_of_positive_numbers(numbers))"
      ],
      "metadata": {
        "colab": {
          "base_uri": "https://localhost:8080/"
        },
        "id": "rkDSIju3dxph",
        "outputId": "07961e8a-152d-4fb8-894a-b1c602aa6e81"
      },
      "execution_count": null,
      "outputs": [
        {
          "output_type": "stream",
          "name": "stdout",
          "text": [
            "Sum of positive numbers: 20\n",
            "None\n"
          ]
        }
      ]
    },
    {
      "cell_type": "markdown",
      "source": [
        "# break"
      ],
      "metadata": {
        "id": "feId1075mk8x"
      }
    },
    {
      "cell_type": "code",
      "source": [
        "i=1\n",
        "while i<10:\n",
        "    if i%3==0:\n",
        "        break\n",
        "    i=i+1\n",
        "print(i)"
      ],
      "metadata": {
        "colab": {
          "base_uri": "https://localhost:8080/"
        },
        "id": "ANaf-8x4msL8",
        "outputId": "9e9f8a41-c840-49f6-bfb2-7ce8ecc3bd97"
      },
      "execution_count": null,
      "outputs": [
        {
          "output_type": "stream",
          "name": "stdout",
          "text": [
            "3\n"
          ]
        }
      ]
    },
    {
      "cell_type": "code",
      "source": [
        "a=[\"red\",\"pink\",\"blue\",\"green\"]\n",
        "i=0\n",
        "while i<len(a):\n",
        "    if len(a[i])>4:\n",
        "\n",
        "        break\n",
        "\n",
        "    print(a[i],end=\" \")\n",
        "    i=i+1"
      ],
      "metadata": {
        "colab": {
          "base_uri": "https://localhost:8080/"
        },
        "id": "gxas2XFTn0po",
        "outputId": "4ac729e8-76df-495b-8664-8f360f151770"
      },
      "execution_count": null,
      "outputs": [
        {
          "output_type": "stream",
          "name": "stdout",
          "text": [
            "red pink blue "
          ]
        }
      ]
    },
    {
      "cell_type": "code",
      "source": [
        "i=0\n",
        "while i<8:\n",
        "    print(i,end=\"\")\n",
        "    i=i+1\n",
        "    if i ==6:\n",
        "        break"
      ],
      "metadata": {
        "colab": {
          "base_uri": "https://localhost:8080/"
        },
        "id": "bcktoRucpXml",
        "outputId": "15afdbab-d3d4-4033-885e-4a09921a3de3"
      },
      "execution_count": null,
      "outputs": [
        {
          "output_type": "stream",
          "name": "stdout",
          "text": [
            "012345"
          ]
        }
      ]
    },
    {
      "cell_type": "code",
      "source": [
        "def process_words(words):\n",
        "    # WRITE YOUR CODE HERE\n",
        "    if len(words)<1 or len(words)>100:\n",
        "        print(\"Error: The list must contain between 1 and 100 words\")\n",
        "    else:\n",
        "        for i in words:\n",
        "            if i==\"\":\n",
        "                break\n",
        "            print(i,end=\" \")\n",
        "\n",
        "words = [\"apple\", \"banana\", \"cherry\"]\n",
        "process_words(words)"
      ],
      "metadata": {
        "colab": {
          "base_uri": "https://localhost:8080/"
        },
        "id": "fWMGDgg1qNlt",
        "outputId": "57c70766-8b4f-46ea-ac71-22425c3498e9"
      },
      "execution_count": null,
      "outputs": [
        {
          "output_type": "stream",
          "name": "stdout",
          "text": [
            "apple banana cherry "
          ]
        }
      ]
    },
    {
      "cell_type": "code",
      "source": [
        "def calculate_sum(numbers_list):\n",
        "    # WRITE YOUR CODE HERE...\n",
        "    total_sum = 0\n",
        "\n",
        "    for number in numbers_list:\n",
        "       if number < 0:\n",
        "          break\n",
        "       total_sum += number\n",
        "    print(\"Total sum of positive numbers:\",total_sum )\n",
        "\n",
        "numbers_list = [7, 3, 0, 8, -2, 4]\n",
        "calculate_sum(numbers_list)"
      ],
      "metadata": {
        "colab": {
          "base_uri": "https://localhost:8080/"
        },
        "id": "pZcRok0fqP2M",
        "outputId": "0b3f8866-474f-417c-fbd4-0420fd27a5c6"
      },
      "execution_count": null,
      "outputs": [
        {
          "output_type": "stream",
          "name": "stdout",
          "text": [
            "Total sum of positive numbers: 18\n"
          ]
        }
      ]
    },
    {
      "cell_type": "code",
      "source": [
        "def fact(u):\n",
        "\n",
        "  r=1\n",
        "  for i in range(1,u+1):\n",
        "    r=r*i\n",
        "  return r\n",
        "print(fact(5))\n"
      ],
      "metadata": {
        "colab": {
          "base_uri": "https://localhost:8080/"
        },
        "id": "DYsuOpXTqbyW",
        "outputId": "bf7c0789-587d-4638-cc92-ba6051770f3f"
      },
      "execution_count": null,
      "outputs": [
        {
          "output_type": "stream",
          "name": "stdout",
          "text": [
            "120\n"
          ]
        }
      ]
    },
    {
      "cell_type": "code",
      "source": [
        "def add(a,b,c):\n",
        "    return a+b+c\n",
        "print(add(1,2,3))"
      ],
      "metadata": {
        "colab": {
          "base_uri": "https://localhost:8080/"
        },
        "id": "09xMBi8duyXk",
        "outputId": "1d2cee27-0053-495e-86b4-1795ac17b386"
      },
      "execution_count": null,
      "outputs": [
        {
          "output_type": "stream",
          "name": "stdout",
          "text": [
            "6\n"
          ]
        }
      ]
    }
  ],
  "metadata": {
    "colab": {
      "provenance": []
    },
    "kernelspec": {
      "display_name": "Python 3",
      "name": "python3"
    },
    "language_info": {
      "name": "python"
    }
  },
  "nbformat": 4,
  "nbformat_minor": 0
}